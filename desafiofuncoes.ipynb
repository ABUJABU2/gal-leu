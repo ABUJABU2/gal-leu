{
 "cells": [
  {
   "cell_type": "code",
   "execution_count": 112,
   "id": "2de6dfef",
   "metadata": {},
   "outputs": [],
   "source": [
    "lista_notas_champagnat = [2.5, 2.9, 0.2, 2.9]\n",
    "\n",
    "def calcular_media(lista_notas):\n",
    "    media = sum(lista_notas) / len(lista_notas)\n",
    "    return print(f'A media das notas é de : {media}')"
   ]
  },
  {
   "cell_type": "code",
   "execution_count": 113,
   "id": "c1cd10eb",
   "metadata": {},
   "outputs": [
    {
     "name": "stdout",
     "output_type": "stream",
     "text": [
      "A media das notas é de : 2.125\n"
     ]
    }
   ],
   "source": [
    "calcular_media(lista_notas_champagnat)"
   ]
  },
  {
   "cell_type": "code",
   "execution_count": 114,
   "id": "d8a8d577",
   "metadata": {},
   "outputs": [],
   "source": [
    "media_cauculada = caucular_media(lista_notas_champagnat)"
   ]
  },
  {
   "cell_type": "code",
   "execution_count": 115,
   "id": "dd35f24d",
   "metadata": {},
   "outputs": [],
   "source": [
    "def avaliar_aluno(nota_aluno, nome_aluno):\n",
    "    if nota_aluno >=9 and nota_aluno <=10:\n",
    "        print(f\"parabens {nome_aluno},exelente media!\")\n",
    "    if nota_aluno >=7 and nota_aluno <=8.9:\n",
    "        print(f\"voce esta na media, {nome_aluno}\")\n",
    "    if nota_aluno >=5 and nota_aluno <=6.9:\n",
    "        print(f\"estude!!! {nome_aluno}\")\n",
    "    if nota_aluno >0.1 and nota_aluno <5:\n",
    "        print(f\"{nome_aluno} voce é muito buuuurooo kkkkkkkkkkk\")\n",
    "    "
   ]
  },
  {
   "cell_type": "code",
   "execution_count": 116,
   "id": "3c954a15",
   "metadata": {},
   "outputs": [
    {
     "name": "stdout",
     "output_type": "stream",
     "text": [
      "nichi voce é muito buuuurooo kkkkkkkkkkk\n"
     ]
    }
   ],
   "source": [
    "avaliar_aluno(2, 'nichi')"
   ]
  }
 ],
 "metadata": {
  "kernelspec": {
   "display_name": "base",
   "language": "python",
   "name": "python3"
  },
  "language_info": {
   "codemirror_mode": {
    "name": "ipython",
    "version": 3
   },
   "file_extension": ".py",
   "mimetype": "text/x-python",
   "name": "python",
   "nbconvert_exporter": "python",
   "pygments_lexer": "ipython3",
   "version": "3.12.7"
  }
 },
 "nbformat": 4,
 "nbformat_minor": 5
}
